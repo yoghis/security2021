{
  "nbformat": 4,
  "nbformat_minor": 0,
  "metadata": {
    "colab": {
      "name": "4070E092 1_基本輸入與輸出教學版(解答)20201022.ipynb",
      "provenance": [],
      "collapsed_sections": [],
      "include_colab_link": true
    },
    "kernelspec": {
      "name": "python3",
      "display_name": "Python 3"
    }
  },
  "cells": [
    {
      "cell_type": "markdown",
      "metadata": {
        "id": "view-in-github",
        "colab_type": "text"
      },
      "source": [
        "<a href=\"https://colab.research.google.com/github/yoghis/security2021/blob/main/4070E092_1_%E5%9F%BA%E6%9C%AC%E8%BC%B8%E5%85%A5%E8%88%87%E8%BC%B8%E5%87%BA%E6%95%99%E5%AD%B8%E7%89%88(%E8%A7%A3%E7%AD%94)20201022.ipynb\" target=\"_parent\"><img src=\"https://colab.research.google.com/assets/colab-badge.svg\" alt=\"Open In Colab\"/></a>"
      ]
    },
    {
      "cell_type": "markdown",
      "metadata": {
        "id": "0ynE7xesLMzb"
      },
      "source": [
        "# 1.基本輸入與輸出"
      ]
    },
    {
      "cell_type": "markdown",
      "metadata": {
        "id": "FHYKyUOzCNGB"
      },
      "source": [
        "```\n",
        "標準輸入(stdin)與標準輸出(stdout)\n",
        "   python輸入:input()\n",
        "   python輸出: print()\n",
        "```\n",
        "```\n",
        "自主學習主題\n",
        "   python格式化輸出技術\n",
        "```\n",
        "```\n",
        "進階學習主題:\n",
        "[10]讀取檔案(txt,csv,xslx,json,...)與輸出到檔案\n",
        "[20]資料庫讀取與輸出\n",
        "```\n",
        "# 基礎輸入與輸出(Basic Input and Output)\n",
        "\n",
        "## 基本輸入:讀取使用者的輸入\n",
        "\n",
        "```\n",
        "使用input時，會從標準輸入(stdin)中讀取輸入資料\n",
        "這些資料是string字串型態{重要}\n",
        "stdin==Standard Input\n",
        "```"
      ]
    },
    {
      "cell_type": "markdown",
      "metadata": {
        "id": "qE6a1xH9C98b"
      },
      "source": [
        "\n",
        "執行底下程式看看:\n",
        "```\n",
        "# -*- coding: utf-8 -*-\n",
        "x = input('Enter your name:')\n",
        "print('Hello, ' + x)\n",
        "\n",
        "a = input(\"請輸入：\")\n",
        "a\n",
        "```\n"
      ]
    },
    {
      "cell_type": "code",
      "metadata": {
        "colab": {
          "base_uri": "https://localhost:8080/"
        },
        "id": "OCm2HHuURR8C",
        "outputId": "68b51d2f-ce12-4153-bd1b-8100fed12acc"
      },
      "source": [
        "# -*- coding: utf-8 -*-\r\n",
        "x = input('Enter your name:')\r\n",
        "print('Hello, ' + x)"
      ],
      "execution_count": 1,
      "outputs": [
        {
          "output_type": "stream",
          "text": [
            "Enter your name:Devas\n",
            "Hello, Devas\n"
          ],
          "name": "stdout"
        }
      ]
    },
    {
      "cell_type": "code",
      "metadata": {
        "colab": {
          "base_uri": "https://localhost:8080/",
          "height": 52
        },
        "id": "p9ykQjLCRZk5",
        "outputId": "216cb5cd-62f2-48f6-cdc4-3529e1f59b12"
      },
      "source": [
        "a = input(\"請輸入：\")\r\n",
        "a"
      ],
      "execution_count": 2,
      "outputs": [
        {
          "output_type": "stream",
          "text": [
            "請輸入：11\n"
          ],
          "name": "stdout"
        },
        {
          "output_type": "execute_result",
          "data": {
            "application/vnd.google.colaboratory.intrinsic+json": {
              "type": "string"
            },
            "text/plain": [
              "'11'"
            ]
          },
          "metadata": {
            "tags": []
          },
          "execution_count": 2
        }
      ]
    },
    {
      "cell_type": "markdown",
      "metadata": {
        "id": "25eyt1w9Diik"
      },
      "source": [
        "###  使用Python內建的type()函數顯示資料型態\n",
        "\n",
        "底下程式執行後結果為何?\n",
        "```\n",
        "type(a)\n",
        "```"
      ]
    },
    {
      "cell_type": "markdown",
      "metadata": {
        "id": "BMuWFMZqDtKG"
      },
      "source": [
        "### 程式錯誤與更正\n",
        "```\n",
        "小明明正在學習python程式\n",
        "\n",
        "老師出了一題\n",
        "要輸入一個整數分數\n",
        "然後加15後\n",
        "輸出最後答案\n",
        "\n",
        "底下是小明明的python程式\n",
        "請指出底下的錯誤並更正\n",
        "```\n",
        "#### 小明明的python程式 執行後結果為何?\n",
        "```\n",
        "a = input(\"請輸入：\")\n",
        "a\n",
        "\n",
        "b = a+15\n",
        "b\n",
        "```\n"
      ]
    },
    {
      "cell_type": "markdown",
      "metadata": {
        "id": "RIDe5YfG_teI"
      },
      "source": [
        "```\n",
        "TypeError :資料型態(data type)錯誤\n",
        "```"
      ]
    },
    {
      "cell_type": "markdown",
      "metadata": {
        "id": "LAh1-HGmEKMo"
      },
      "source": [
        "#### 更正的 小明明python程式\n",
        "```\n",
        "如何讀取使用者輸入的整數===>使用eval()函數\n",
        "            ===>也可以使用int()函數\n",
        "```\n",
        "底下程式執行後結果為何?\n",
        "```\n",
        "a = eval(input(\"請輸入：\"))\n",
        "a\n",
        "type(a)\n",
        "```"
      ]
    },
    {
      "cell_type": "markdown",
      "metadata": {
        "id": "lcfO6SimMzIm"
      },
      "source": [
        "寫下你更正的答案:"
      ]
    },
    {
      "cell_type": "markdown",
      "metadata": {
        "id": "ojFW3LYnAhM_"
      },
      "source": [
        "#### 超級重要:一次輸入多（兩）個資料\n",
        "\n",
        "底下程式執行後結果為何?\n",
        "```\n",
        "a,b = eval(input(\"請輸入兩個數位：\"))\n",
        "a,b\n",
        "```"
      ]
    }
  ]
}