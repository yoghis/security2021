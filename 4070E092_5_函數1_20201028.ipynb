{
  "nbformat": 4,
  "nbformat_minor": 0,
  "metadata": {
    "colab": {
      "name": "4070E092 5_函數1_20201028.ipynb",
      "provenance": [],
      "collapsed_sections": [],
      "include_colab_link": true
    },
    "kernelspec": {
      "name": "python3",
      "display_name": "Python 3"
    }
  },
  "cells": [
    {
      "cell_type": "markdown",
      "metadata": {
        "id": "view-in-github",
        "colab_type": "text"
      },
      "source": [
        "<a href=\"https://colab.research.google.com/github/yoghis/security2021/blob/main/4070E092_5_%E5%87%BD%E6%95%B81_20201028.ipynb\" target=\"_parent\"><img src=\"https://colab.research.google.com/assets/colab-badge.svg\" alt=\"Open In Colab\"/></a>"
      ]
    },
    {
      "cell_type": "markdown",
      "metadata": {
        "id": "ImakIBYa576h"
      },
      "source": [
        "# 函數 Function開發"
      ]
    },
    {
      "cell_type": "markdown",
      "metadata": {
        "id": "rJwFGh81uJbT"
      },
      "source": [
        "```\n",
        "[1]函數\n",
        "[2]函式參數與回傳\n",
        "[3]變數的有效範圍(Scope)\n",
        "[4]各種函數技術\n",
        "   匿名函數\n",
        "   遞迴函數\n",
        "[5]Python內建函數==>Built-in Functions\n",
        "```"
      ]
    },
    {
      "cell_type": "markdown",
      "metadata": {
        "id": "aJ3hZW950Eb2"
      },
      "source": [
        "# 函數開發初體驗\n",
        "\n",
        "撰寫一個sum()函數\n",
        "接收兩個參數i1, i2(i1< i2)\n",
        "功能是執行從i1+....+ (i2-1)\n",
        "例如: sum(1,11)=1+2+3+....+10\n",
        "```\n",
        "def sum(i1, i2):\n",
        "    result = 0\n",
        "    for i in range(i1, i2):\n",
        "        result += i\n",
        "    return result\n",
        "\n",
        "def main():\n",
        "    print(\"Sum from 1 to 10 is\", sum(1, 11)) \n",
        "    print(\"Sum from 20 to 37 is\", sum(20, 38))\n",
        "    print(\"Sum from 35 to 49 is\", sum(35, 50))\n",
        "\n",
        "main() # Call the main function\n",
        "```"
      ]
    },
    {
      "cell_type": "markdown",
      "metadata": {
        "id": "_2NesT6NuYnY"
      },
      "source": [
        "# 函式的定義:\n",
        "```\n",
        "函數代碼塊以 def 關鍵字開頭，後接函數識別字名稱和圓括號()。\n",
        "任何傳入參數和引數必須放在圓括號中間。圓括號之間可以用於定義參數。\n",
        "函數的第一行語句可以選擇性地使用文檔字串—用於存放函數說明。\n",
        "函數內容以冒號起始，並且縮排。\n",
        "return [運算式] 結束函數，選擇性地返回一個值給調用方。不帶運算式的return相當於返回 None。\n",
        "函式包含標頭和主體。\n",
        "標頭(header)起源於def關鍵字，後接函式名稱和參數，最後以冒號結尾。\n",
        "```\n",
        "\n",
        "```\n",
        "【Python 練習實例47】練習撰寫swap(a,b)函式\n",
        "                    寫一個函式將輸入的兩個變數值互換\n",
        "```\n",
        "底下程式執行後結果為何?\n",
        "```\n",
        "#!/usr/bin/python\n",
        "# -*- coding: UTF-8 -*-\n",
        " \n",
        "def swap(a,b):\n",
        "    a,b = b,a\n",
        "    return (a,b)\n",
        " \n",
        "if __name__ == '__main__':\n",
        "    x = 10\n",
        "    y = 20\n",
        "    print('x = %d,y = %d' % (x,y))\n",
        "    x,y = swap(x,y)\n",
        "    print('x = %d,y = %d' % (x,y))\n",
        "```"
      ]
    },
    {
      "cell_type": "markdown",
      "metadata": {
        "id": "0h17DIWBvOaG"
      },
      "source": [
        "# 函式與回傳值\n",
        "```\n",
        "Python的函式是否有無回傳值，端視函式是否有無return敘述。\n",
        "```\n",
        "```\n",
        "若函式沒有回傳值，預設是回傳一None特殊值。\n",
        "\n",
        "因此，沒有回傳值的函式也稱為None函式。\n",
        "None值可以指定給一變數，表示此變數沒有參考到任何的物件\n",
        "```"
      ]
    },
    {
      "cell_type": "markdown",
      "metadata": {
        "id": "JMTVd02EamC5"
      },
      "source": [
        "底下程式執行後結果為何?\n",
        "```\n",
        "\n",
        "## Python的函數可以回傳多個值(超棒der)\n",
        "\n",
        "#!/usr/bin/python \n",
        "# -*- coding: UTF-8 -*- \n",
        "\n",
        "def sort(number1, number2):\n",
        "    if number1 < number2:\n",
        "        return number1, number2\n",
        "    else:\n",
        "        return number2, number1\n",
        "\n",
        "num1, num2 = sort(31, 25)\n",
        "\n",
        "print(\"num1 is\", num1)\n",
        "print(\"num2 is\", num2)\n",
        "\n",
        "```"
      ]
    },
    {
      "cell_type": "markdown",
      "metadata": {
        "id": "HAXxWc6bwz3x"
      },
      "source": [
        "# 變數的有效範圍\n",
        "```\n",
        "變數的有效範圍(Scope)：變數在程式可參考的範圍。\n",
        "\n",
        "區域變數(local variable):宣告在函式內部的變數\n",
        "\n",
        "全域變數(global variables):宣告在所有函式外部的變數\n",
        "```\n",
        "底下程式執行後結果為何?\n",
        "```\n",
        "\n",
        "x = 111\n",
        "\n",
        "def f1():\n",
        "    x = 222\n",
        "    print(x) \n",
        "\n",
        "f1()\n",
        "print(x)\n",
        "\n",
        "x = 1\n",
        "\n",
        "def increase():\n",
        "    global x\n",
        "    x =  x + 1\n",
        "    print(x) \n",
        "\n",
        "increase()\n",
        "print(x)\n",
        "increase()\n",
        "increase()\n",
        "print(x)\n",
        "```"
      ]
    },
    {
      "cell_type": "code",
      "metadata": {
        "id": "A2IZ0aenw1OA",
        "colab": {
          "base_uri": "https://localhost:8080/",
          "height": 136
        },
        "outputId": "088f9d94-5e3a-4cf5-d4fc-0c9a95f49e6d"
      },
      "source": [
        "x = 111\n",
        " \n",
        "def f1():\n",
        "    x = 222\n",
        "    print(x) \n",
        " \n",
        "f1()\n",
        "print(x)\n",
        " \n",
        "x = 1\n",
        " \n",
        "def increase():\n",
        "    global x\n",
        "    x =  x + 1\n",
        "    print(x) \n",
        " \n",
        "increase()\n",
        "print(x)\n",
        "increase()\n",
        "increase()\n",
        "print(x)"
      ],
      "execution_count": null,
      "outputs": [
        {
          "output_type": "stream",
          "text": [
            "222\n",
            "111\n",
            "2\n",
            "2\n",
            "3\n",
            "4\n",
            "4\n"
          ],
          "name": "stdout"
        }
      ]
    },
    {
      "cell_type": "markdown",
      "metadata": {
        "id": "DhgzqkBPw-sQ"
      },
      "source": [
        "# [4]進階函數技術\n",
        "\n",
        "### [4-1]匿名函數==>lambda 運算式\n",
        "```\n",
        "匿名函數==沒有函數名稱、臨時使用的小函數\n",
        "使用lambda 運算式來宣告匿名函數\n",
        "lambda 運算式只能包含一個運算式， 不允許複雜的語句，但運算式中可呼叫其他函數\n",
        "```\n",
        "\n",
        "### 把lambda運算式當做函數\n",
        "\n",
        "底下程式執行後結果為何?\n",
        "```\n",
        "f1 = lambda x, y, z: x+2*y+3*z\n",
        "print(f1(2,3,1))\n",
        "```"
      ]
    },
    {
      "cell_type": "markdown",
      "metadata": {
        "id": "emlQGWgXxbGk"
      },
      "source": [
        "###在lambda 運算式中呼叫其他函式(重要技術)\n",
        "\n",
        "底下程式執行後結果為何?\n",
        "```\n",
        "def myfunc(m):\n",
        "    return m*m\n",
        "\n",
        "my_list = [1, 3, 5, 7, 9]\n",
        "\n",
        "### 使用python的map()\n",
        "\n",
        "map(lambda x:myfunc(x), my_list)\n",
        "```"
      ]
    },
    {
      "cell_type": "markdown",
      "metadata": {
        "id": "Ekh_5V-vxtuu"
      },
      "source": [
        "## [4-2]遞迴函式 ==> recursive vs iterative(loop)\n",
        "```\n",
        "函式中使用函式自身的方法。 \n",
        "遞迴函式必須有終止條件，才能被計算。\n",
        "```\n",
        "\n",
        "### 遞迴函式常見範例\n",
        "```\n",
        "[程式開發作業]費氏數列\n",
        "[程式開發作業]1+2+3+....+n\n",
        "[程式開發作業]n!\n",
        "[程式開發作業]x的n次方\n",
        "[程式開發作業]二項係數\n",
        "[程式開發作業][Ackermann函式](https://en.wikipedia.org/wiki/Ackermann_function)\n",
        "[程式開發作業]河內塔\n",
        "[程式開發作業]八皇后問題\n",
        "[程式開發作業]binary search二元搜尋法\n",
        "```\n",
        "\n",
        "### 費氏數列\n",
        "```\n",
        "費氏數列Fibonacci sequence又稱黃金分割數列\n",
        "0、1、1、2、3、5、8、13、21、34、……。\n",
        "\n",
        "在數學上，費波那契數列是以遞迴的方法來定義：\n",
        "F(0) = 0    (n=0)\n",
        "F(1) = 1    (n=1)\n",
        "F(n) = F(n-1)+ F(n-2)(n=>2)\n",
        "```\n",
        "\n",
        "#### 方法一:使用 recursive\n",
        "\n",
        "底下程式執行後結果為何?\n",
        "```\n",
        "#!/usr/bin/python\n",
        "# -*- coding: UTF-8 -*-\n",
        "\n",
        "def fib(n):\n",
        "    if n==1 or n==2:\n",
        "        return 1\n",
        "    return fib(n-1)+fib(n-2)\n",
        "\n",
        "print(fib(10))\n",
        "```"
      ]
    },
    {
      "cell_type": "markdown",
      "metadata": {
        "id": "4v47bxfex2AK"
      },
      "source": [
        "#### 方法二:使用 iterative\"\"\"\n",
        "\n",
        "底下程式執行後結果為何?\n",
        "```\n",
        "#!/usr/bin/python\n",
        "# -*- coding: UTF-8 -*-\n",
        " \n",
        "def fib(n):\n",
        "    a,b = 1,1\n",
        "    for i in range(n-1):\n",
        "        a,b = b,a+b\n",
        "    return a\n",
        " \n",
        "\n",
        "print(fib(10))\n",
        "```"
      ]
    },
    {
      "cell_type": "markdown",
      "metadata": {
        "id": "b2dLrKKjx_UP"
      },
      "source": [
        "###【Python 練習實例28】\n",
        "```\n",
        "有5個人坐在一起，\n",
        "問第五個人多少歲？他說比第4個人大2歲。\n",
        "問第4個人歲數，他說比第3個人大2歲。\n",
        "問第三個人，又說比第2人大兩歲。\n",
        "問第2個人，說比第一個人大兩歲。\n",
        "最後問第一個人，他說是10歲。\n",
        "請問第五個人多大？\n",
        "```\n",
        "\n",
        "###  問題:要如何知道函數被呼叫的次數??\n",
        "```\n",
        "遞迴函式的呼叫次數==>全域變數的應用\n",
        "```\n",
        "底下程式執行後結果為何?\n",
        "```\n",
        "#!/usr/bin/python\n",
        "# -*- coding: UTF-8 -*-\n",
        "\n",
        "def fib(x):\t\n",
        "\tglobal numFibCalls\n",
        "\tnumFibCalls += 1\n",
        "\t\n",
        "\tif x == 0 or x == 1:\n",
        "           return 1\n",
        "\telse:\n",
        "          return fib(x-1) + fib(x-2)\n",
        "\n",
        "def testFib(n):\n",
        "\tfor i in range(n+1):\n",
        "          global numFibCalls\n",
        "          numFibCalls = 0\n",
        "          print('fib of', i, '=', fib(i))\n",
        "          print('fib called', numFibCalls, 'times.')\n",
        "\n",
        "testFib(4)\n",
        "\n",
        "```"
      ]
    },
    {
      "cell_type": "markdown",
      "metadata": {
        "id": "zdJYgJEgymbz"
      },
      "source": [
        "# [5]Python內建函數==>Built-in Functions:\n",
        "\n",
        "```\n",
        "https://docs.python.org/2/library/functions.html\n",
        "https://www.programiz.com/python-programming/methods/built-in\n",
        "```\n",
        "\n",
        "### hex(x):Convert an integer number to a lowercase hexadecimal string prefixed with “0x”\n",
        "\n",
        "底下程式執行後結果為何?\n",
        "```\n",
        "hex(255)\n",
        "```\n"
      ]
    },
    {
      "cell_type": "markdown",
      "metadata": {
        "id": "bqI_FylAy21-"
      },
      "source": [
        "底下程式執行後結果為何?\n",
        "```\n",
        "hex(-42)\n",
        "```"
      ]
    },
    {
      "cell_type": "markdown",
      "metadata": {
        "id": "i23yihdz0RBJ"
      },
      "source": [
        "\n",
        "\n",
        "### oct(x):Convert an integer number to an octal string prefixed with “0o”\n",
        "底下程式執行後結果為何?\n",
        "```\n",
        "oct(8)\n",
        "```"
      ]
    },
    {
      "cell_type": "markdown",
      "metadata": {
        "id": "QlExLuKW1HYo"
      },
      "source": [
        "底下程式執行後結果為何?\n",
        "```\n",
        "oct(-56)\n",
        "```"
      ]
    },
    {
      "cell_type": "markdown",
      "metadata": {
        "id": "fRdzxssy1Rq-"
      },
      "source": [
        "### bin(x):Convert an integer number to a binary string prefixed with “0b”\n",
        "\n",
        "底下程式執行後結果為何?\n",
        "```\n",
        "bin(3)\n",
        "```"
      ]
    },
    {
      "cell_type": "markdown",
      "metadata": {
        "id": "8DXr-IVcv7zc"
      },
      "source": [
        "\n",
        "底下程式執行後結果為何?\n",
        "```\n",
        "bin(-10)\n",
        "```"
      ]
    }
  ]
}